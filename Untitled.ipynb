{
 "cells": [
  {
   "cell_type": "code",
   "execution_count": 1,
   "metadata": {
    "collapsed": true
   },
   "outputs": [],
   "source": [
    "import pandas as pd\n",
    "\n",
    "all = pd.read_csv(\"data/train.csv\", header=None,sep=\"\\t\")\n",
    "maxLen=0\n",
    "vacb={}\n",
    "vacb['[PAD]']=0\n",
    "vacb['[OOV]']=1\n",
    "for i in range (2,len(all)):\n",
    "    q1=all[1][i]\n",
    "    q2=all[2][i]\n",
    "    m=max(len(q1),len(q2))\n",
    "    if(maxLen<m):\n",
    "        maxLen=m\n",
    "    for ch in (q1+q2):\n",
    "        if(ch not in vacb):\n",
    "            vacb[ch]=1\n",
    "        else:\n",
    "            vacb[ch]+=1\n",
    "#     break\n",
    "vacb_ch2index=dict(zip(vacb.keys(),range(0,len(vacb))))\n",
    "vacb_index2ch=dict(zip(range(0,len(vacb)),vacb.keys()))\n",
    "\n",
    "import pickle\n",
    "pickle.dump(vacb_ch2index,open('data/vacb_ch2index.pkl','wb'))\n",
    "pickle.dump(vacb_index2ch,open('data/vacb_index2ch.pkl','wb'))\n",
    "\n",
    "\n",
    "# all = all.sample(len(all))\n",
    "# test = all[0:10000]\n",
    "# train = all[10000:-1]\n",
    "\n",
    "# print(len(all))\n"
   ]
  },
  {
   "cell_type": "code",
   "execution_count": 2,
   "metadata": {
    "collapsed": true
   },
   "outputs": [],
   "source": [
    "all = all.sample(len(all))\n",
    "test = all[0:10000]\n",
    "train = all[10000:-1]"
   ]
  },
  {
   "cell_type": "code",
   "execution_count": 3,
   "metadata": {
    "collapsed": true
   },
   "outputs": [],
   "source": [
    "z=train[train[3]==1]"
   ]
  },
  {
   "cell_type": "code",
   "execution_count": 4,
   "metadata": {
    "collapsed": true
   },
   "outputs": [],
   "source": [
    "f=train[train[3]==0]"
   ]
  },
  {
   "cell_type": "code",
   "execution_count": 5,
   "metadata": {
    "collapsed": true
   },
   "outputs": [],
   "source": [
    "df=pd.concat([z,z,z,z,f])\n",
    "train=df.sample(len(df))"
   ]
  },
  {
   "cell_type": "code",
   "execution_count": 6,
   "metadata": {},
   "outputs": [
    {
     "data": {
      "text/plain": [
       "(67576, 4)"
      ]
     },
     "execution_count": 6,
     "metadata": {},
     "output_type": "execute_result"
    }
   ],
   "source": [
    "train[train[3]==1].shape"
   ]
  },
  {
   "cell_type": "code",
   "execution_count": 7,
   "metadata": {},
   "outputs": [
    {
     "data": {
      "text/plain": [
       "(75582, 4)"
      ]
     },
     "execution_count": 7,
     "metadata": {},
     "output_type": "execute_result"
    }
   ],
   "source": [
    "train[train[3]==0].shape"
   ]
  },
  {
   "cell_type": "code",
   "execution_count": null,
   "metadata": {
    "collapsed": true
   },
   "outputs": [],
   "source": []
  },
  {
   "cell_type": "code",
   "execution_count": 8,
   "metadata": {
    "collapsed": true
   },
   "outputs": [],
   "source": [
    "pickle.dump(train,open('data/train.pkl','wb'))\n",
    "pickle.dump(test,open('data/test.pkl','wb'))"
   ]
  },
  {
   "cell_type": "code",
   "execution_count": 9,
   "metadata": {
    "scrolled": true
   },
   "outputs": [
    {
     "data": {
      "text/html": [
       "<div>\n",
       "<style>\n",
       "    .dataframe thead tr:only-child th {\n",
       "        text-align: right;\n",
       "    }\n",
       "\n",
       "    .dataframe thead th {\n",
       "        text-align: left;\n",
       "    }\n",
       "\n",
       "    .dataframe tbody tr th {\n",
       "        vertical-align: top;\n",
       "    }\n",
       "</style>\n",
       "<table border=\"1\" class=\"dataframe\">\n",
       "  <thead>\n",
       "    <tr style=\"text-align: right;\">\n",
       "      <th></th>\n",
       "      <th>0</th>\n",
       "      <th>1</th>\n",
       "      <th>2</th>\n",
       "      <th>3</th>\n",
       "    </tr>\n",
       "  </thead>\n",
       "  <tbody>\n",
       "    <tr>\n",
       "      <th>50292</th>\n",
       "      <td>10947</td>\n",
       "      <td>花呗提额，怎么授权通讯录</td>\n",
       "      <td>花呗oppo手机通讯录怎么授权题额</td>\n",
       "      <td>0</td>\n",
       "    </tr>\n",
       "    <tr>\n",
       "      <th>94383</th>\n",
       "      <td>55038</td>\n",
       "      <td>我也是用花呗买的</td>\n",
       "      <td>我的花呗借吧怎么不用</td>\n",
       "      <td>0</td>\n",
       "    </tr>\n",
       "    <tr>\n",
       "      <th>43834</th>\n",
       "      <td>4489</td>\n",
       "      <td>为啥收款码不支持花呗收款了</td>\n",
       "      <td>支付宝口碑码是否支持花呗收款</td>\n",
       "      <td>0</td>\n",
       "    </tr>\n",
       "    <tr>\n",
       "      <th>94959</th>\n",
       "      <td>55614</td>\n",
       "      <td>蚂蚁花呗分期付款，如果分三期，但是第二个月全部付清了，那第三期还要手续费吗</td>\n",
       "      <td>花呗分期还款免手续费</td>\n",
       "      <td>0</td>\n",
       "    </tr>\n",
       "    <tr>\n",
       "      <th>17486</th>\n",
       "      <td>17487</td>\n",
       "      <td>我花呗之前有逾期，还上后还能恢复吗</td>\n",
       "      <td>我的花呗怎么还原</td>\n",
       "      <td>0</td>\n",
       "    </tr>\n",
       "    <tr>\n",
       "      <th>61621</th>\n",
       "      <td>22276</td>\n",
       "      <td>花呗逾期一个星期利息多少</td>\n",
       "      <td>花呗逾期利息一天多少</td>\n",
       "      <td>0</td>\n",
       "    </tr>\n",
       "    <tr>\n",
       "      <th>46605</th>\n",
       "      <td>7260</td>\n",
       "      <td>为什么我芝麻积分不低，怎么花呗可用额度这么低</td>\n",
       "      <td>我的芝麻信用分高为什么花呗额度低</td>\n",
       "      <td>0</td>\n",
       "    </tr>\n",
       "    <tr>\n",
       "      <th>60895</th>\n",
       "      <td>21550</td>\n",
       "      <td>花呗还请最低额度剩余的会影响吗</td>\n",
       "      <td>花呗不还会影响家人吗</td>\n",
       "      <td>0</td>\n",
       "    </tr>\n",
       "    <tr>\n",
       "      <th>48388</th>\n",
       "      <td>9043</td>\n",
       "      <td>借呗，会不会影响花呗</td>\n",
       "      <td>解绑银行卡会影响还花呗吗</td>\n",
       "      <td>0</td>\n",
       "    </tr>\n",
       "    <tr>\n",
       "      <th>82874</th>\n",
       "      <td>43529</td>\n",
       "      <td>二月二号借呗还款，为什么现在不能还</td>\n",
       "      <td>我的借呗还不了款，怎么办呀</td>\n",
       "      <td>0</td>\n",
       "    </tr>\n",
       "    <tr>\n",
       "      <th>93806</th>\n",
       "      <td>54461</td>\n",
       "      <td>蚂蚁借呗的借款记录查不到记录</td>\n",
       "      <td>借呗怎么删除借款记录</td>\n",
       "      <td>0</td>\n",
       "    </tr>\n",
       "    <tr>\n",
       "      <th>65543</th>\n",
       "      <td>26198</td>\n",
       "      <td>如果开通花呗，当月没有消费，有没有什么费用</td>\n",
       "      <td>开通花呗不用有年费吗</td>\n",
       "      <td>0</td>\n",
       "    </tr>\n",
       "    <tr>\n",
       "      <th>42248</th>\n",
       "      <td>2903</td>\n",
       "      <td>花呗是次月自动扣费吗</td>\n",
       "      <td>花呗忘记还会自动扣费吗</td>\n",
       "      <td>0</td>\n",
       "    </tr>\n",
       "    <tr>\n",
       "      <th>81360</th>\n",
       "      <td>42015</td>\n",
       "      <td>开通了信用卡花呗收款怎么使用不了</td>\n",
       "      <td>开通不了花呗信用卡收款</td>\n",
       "      <td>0</td>\n",
       "    </tr>\n",
       "    <tr>\n",
       "      <th>59332</th>\n",
       "      <td>19987</td>\n",
       "      <td>蚂蚁借呗还款日 是否自动扣款</td>\n",
       "      <td>蚂蚁借呗 还款方式是每月还款吗</td>\n",
       "      <td>0</td>\n",
       "    </tr>\n",
       "    <tr>\n",
       "      <th>6517</th>\n",
       "      <td>6518</td>\n",
       "      <td>为什么我手机里没有花呗</td>\n",
       "      <td>支付宝花呗里没有</td>\n",
       "      <td>0</td>\n",
       "    </tr>\n",
       "    <tr>\n",
       "      <th>66506</th>\n",
       "      <td>27161</td>\n",
       "      <td>我花呗***的账单是什么时候的</td>\n",
       "      <td>我是，我这个花呗，这个***元***元，但是怎么产生的</td>\n",
       "      <td>0</td>\n",
       "    </tr>\n",
       "    <tr>\n",
       "      <th>30411</th>\n",
       "      <td>30412</td>\n",
       "      <td>我今天上午还清花呗，下午又花了是到底我花了这个钱是今天再还一次还是下个月九号</td>\n",
       "      <td>花呗月底还清***号又用了，那在***号之前还还是下个月还款</td>\n",
       "      <td>1</td>\n",
       "    </tr>\n",
       "    <tr>\n",
       "      <th>100083</th>\n",
       "      <td>60738</td>\n",
       "      <td>花呗一天可以付款几次</td>\n",
       "      <td>我每天可以用多少次花呗</td>\n",
       "      <td>1</td>\n",
       "    </tr>\n",
       "    <tr>\n",
       "      <th>37539</th>\n",
       "      <td>37540</td>\n",
       "      <td>花呗开通需要多少芝麻信用</td>\n",
       "      <td>多少信用才可以开启花呗</td>\n",
       "      <td>1</td>\n",
       "    </tr>\n",
       "    <tr>\n",
       "      <th>61650</th>\n",
       "      <td>22305</td>\n",
       "      <td>花呗逾期的记录会有什么影响</td>\n",
       "      <td>花呗有逾期记录，什么时候能正常使用</td>\n",
       "      <td>0</td>\n",
       "    </tr>\n",
       "    <tr>\n",
       "      <th>65402</th>\n",
       "      <td>26057</td>\n",
       "      <td>为什么合并付款不能花呗</td>\n",
       "      <td>我想用蚂蚁花呗付款，但是合并付款中有一个不能用，导致我所有都不能用怎么办</td>\n",
       "      <td>0</td>\n",
       "    </tr>\n",
       "    <tr>\n",
       "      <th>14337</th>\n",
       "      <td>14338</td>\n",
       "      <td>如果我多用花呗，会提升额度吗</td>\n",
       "      <td>我要关闭花呗，额度太低了</td>\n",
       "      <td>0</td>\n",
       "    </tr>\n",
       "    <tr>\n",
       "      <th>14259</th>\n",
       "      <td>14260</td>\n",
       "      <td>花呗分期何时还第一期</td>\n",
       "      <td>我的花呗三个分期</td>\n",
       "      <td>0</td>\n",
       "    </tr>\n",
       "    <tr>\n",
       "      <th>59942</th>\n",
       "      <td>20597</td>\n",
       "      <td>借呗借贷影响其他银行贷款吗</td>\n",
       "      <td>借呗借钱会影响银行贷款吗</td>\n",
       "      <td>0</td>\n",
       "    </tr>\n",
       "    <tr>\n",
       "      <th>60941</th>\n",
       "      <td>21596</td>\n",
       "      <td>商家如何开通花呗</td>\n",
       "      <td>当面付开通花呗条件</td>\n",
       "      <td>0</td>\n",
       "    </tr>\n",
       "    <tr>\n",
       "      <th>96493</th>\n",
       "      <td>57148</td>\n",
       "      <td>我的花呗和借呗怎么在开通了</td>\n",
       "      <td>花呗给我开通一下呗</td>\n",
       "      <td>0</td>\n",
       "    </tr>\n",
       "    <tr>\n",
       "      <th>92141</th>\n",
       "      <td>52796</td>\n",
       "      <td>花呗分期可用购物津贴吗</td>\n",
       "      <td>使用花呗分期会影响购物津贴使用吗</td>\n",
       "      <td>1</td>\n",
       "    </tr>\n",
       "    <tr>\n",
       "      <th>54194</th>\n",
       "      <td>14849</td>\n",
       "      <td>可是花呗还没有恢复使用</td>\n",
       "      <td>花呗还款后余额未恢复</td>\n",
       "      <td>0</td>\n",
       "    </tr>\n",
       "    <tr>\n",
       "      <th>13929</th>\n",
       "      <td>13930</td>\n",
       "      <td>我想接除花呗合同</td>\n",
       "      <td>干嘛花呗有合同的</td>\n",
       "      <td>0</td>\n",
       "    </tr>\n",
       "    <tr>\n",
       "      <th>...</th>\n",
       "      <td>...</td>\n",
       "      <td>...</td>\n",
       "      <td>...</td>\n",
       "      <td>...</td>\n",
       "    </tr>\n",
       "    <tr>\n",
       "      <th>151</th>\n",
       "      <td>152</td>\n",
       "      <td>我有不良记录吗？为什么借呗关闭了</td>\n",
       "      <td>没有借过借呗，为什么给我关闭</td>\n",
       "      <td>0</td>\n",
       "    </tr>\n",
       "    <tr>\n",
       "      <th>74329</th>\n",
       "      <td>34984</td>\n",
       "      <td>用不了花呗</td>\n",
       "      <td>只是使用花呗买了东西</td>\n",
       "      <td>0</td>\n",
       "    </tr>\n",
       "    <tr>\n",
       "      <th>26495</th>\n",
       "      <td>26496</td>\n",
       "      <td>花呗上的号码怎么更改</td>\n",
       "      <td>我是更改花呗的电话号码</td>\n",
       "      <td>1</td>\n",
       "    </tr>\n",
       "    <tr>\n",
       "      <th>3732</th>\n",
       "      <td>3733</td>\n",
       "      <td>我的支付宝怎么开通花呗跟信用卡支付功能</td>\n",
       "      <td>商家开通信用卡与花呗付款，顾客怎么还是不能用花呗付款</td>\n",
       "      <td>0</td>\n",
       "    </tr>\n",
       "    <tr>\n",
       "      <th>51068</th>\n",
       "      <td>11723</td>\n",
       "      <td>怎么我的蚂蚁借呗开通不了</td>\n",
       "      <td>我怎么开通不了</td>\n",
       "      <td>0</td>\n",
       "    </tr>\n",
       "    <tr>\n",
       "      <th>57633</th>\n",
       "      <td>18288</td>\n",
       "      <td>为什么买了***元也显示需花呗还款</td>\n",
       "      <td>我的花呗为什么只显示***</td>\n",
       "      <td>0</td>\n",
       "    </tr>\n",
       "    <tr>\n",
       "      <th>67328</th>\n",
       "      <td>27983</td>\n",
       "      <td>花呗自动还款几点</td>\n",
       "      <td>支付宝有钱花呗为什么不自动还款</td>\n",
       "      <td>0</td>\n",
       "    </tr>\n",
       "    <tr>\n",
       "      <th>93528</th>\n",
       "      <td>54183</td>\n",
       "      <td>为什么借呗的钱申请成功却没有到银行卡上</td>\n",
       "      <td>借呗显示放款成功。 银行卡没收到</td>\n",
       "      <td>1</td>\n",
       "    </tr>\n",
       "    <tr>\n",
       "      <th>12487</th>\n",
       "      <td>12488</td>\n",
       "      <td>花呗已经是开通了</td>\n",
       "      <td>开通花呗评估</td>\n",
       "      <td>0</td>\n",
       "    </tr>\n",
       "    <tr>\n",
       "      <th>72673</th>\n",
       "      <td>33328</td>\n",
       "      <td>蚂蚁借呗一般放款多久</td>\n",
       "      <td>借呗还有一个没有放款</td>\n",
       "      <td>0</td>\n",
       "    </tr>\n",
       "    <tr>\n",
       "      <th>52752</th>\n",
       "      <td>13407</td>\n",
       "      <td>我这个支付宝怎么不可以开通花呗，借呗</td>\n",
       "      <td>我的花呗跟借呗怎么开通不了</td>\n",
       "      <td>1</td>\n",
       "    </tr>\n",
       "    <tr>\n",
       "      <th>42170</th>\n",
       "      <td>2825</td>\n",
       "      <td>怎么查询花呗使用的最大额度是多少</td>\n",
       "      <td>如何查花呗的欠款额度</td>\n",
       "      <td>0</td>\n",
       "    </tr>\n",
       "    <tr>\n",
       "      <th>61039</th>\n",
       "      <td>21694</td>\n",
       "      <td>花呗使用分类有吗</td>\n",
       "      <td>使用花呗是不是要有余额</td>\n",
       "      <td>0</td>\n",
       "    </tr>\n",
       "    <tr>\n",
       "      <th>35710</th>\n",
       "      <td>35711</td>\n",
       "      <td>我想把***月份和***月的花呗分期提前还清</td>\n",
       "      <td>分期花呗 提前还一部分</td>\n",
       "      <td>1</td>\n",
       "    </tr>\n",
       "    <tr>\n",
       "      <th>49519</th>\n",
       "      <td>10174</td>\n",
       "      <td>绑定农村信用社借记卡可以还花呗账单吗</td>\n",
       "      <td>花呗支持农村信用社还款吗</td>\n",
       "      <td>1</td>\n",
       "    </tr>\n",
       "    <tr>\n",
       "      <th>73547</th>\n",
       "      <td>34202</td>\n",
       "      <td>怎么提前还款一个月的借呗</td>\n",
       "      <td>借呗按期能提前还款吗</td>\n",
       "      <td>1</td>\n",
       "    </tr>\n",
       "    <tr>\n",
       "      <th>61126</th>\n",
       "      <td>21781</td>\n",
       "      <td>蚂蚁借呗支付宝显示到账了，但是没有收到短信</td>\n",
       "      <td>蚂蚁借呗显示放款成功，手机到账短信却没来</td>\n",
       "      <td>1</td>\n",
       "    </tr>\n",
       "    <tr>\n",
       "      <th>25851</th>\n",
       "      <td>25852</td>\n",
       "      <td>我要还完款再取消花呗</td>\n",
       "      <td>花呗已还清，怎样取消花呗</td>\n",
       "      <td>0</td>\n",
       "    </tr>\n",
       "    <tr>\n",
       "      <th>68888</th>\n",
       "      <td>29543</td>\n",
       "      <td>蚂蚁借呗都是自动还款吗</td>\n",
       "      <td>我的蚂蚁借呗怎么会自动关闭</td>\n",
       "      <td>0</td>\n",
       "    </tr>\n",
       "    <tr>\n",
       "      <th>68429</th>\n",
       "      <td>29084</td>\n",
       "      <td>不想使用花呗，咋关闭</td>\n",
       "      <td>不用花呗了，怎么取消</td>\n",
       "      <td>0</td>\n",
       "    </tr>\n",
       "    <tr>\n",
       "      <th>68993</th>\n",
       "      <td>29648</td>\n",
       "      <td>花呗手机分期在哪里查询到付</td>\n",
       "      <td>花呗分期免息券在哪里查看</td>\n",
       "      <td>0</td>\n",
       "    </tr>\n",
       "    <tr>\n",
       "      <th>5667</th>\n",
       "      <td>5668</td>\n",
       "      <td>为什么会扣两次款！银行卡提示已经付款成功了！花呗怎么也扣费了</td>\n",
       "      <td>重复付款了，第一次拍用银行卡付款了，但还是显示等待付款，第二次用花呗，但是现在显示两次都扣钱...</td>\n",
       "      <td>0</td>\n",
       "    </tr>\n",
       "    <tr>\n",
       "      <th>85391</th>\n",
       "      <td>46046</td>\n",
       "      <td>我有蚂蚁借呗 但是没有额度 怎么回事</td>\n",
       "      <td>蚂蚁借呗为什么显示没有信用额度</td>\n",
       "      <td>0</td>\n",
       "    </tr>\n",
       "    <tr>\n",
       "      <th>28710</th>\n",
       "      <td>28711</td>\n",
       "      <td>我怎么交电费不能用花呗了</td>\n",
       "      <td>怎么用不了花呗充钻石</td>\n",
       "      <td>0</td>\n",
       "    </tr>\n",
       "    <tr>\n",
       "      <th>77959</th>\n",
       "      <td>38614</td>\n",
       "      <td>可以申请停用借呗吗</td>\n",
       "      <td>关闭借呗以后还可以开通吗</td>\n",
       "      <td>0</td>\n",
       "    </tr>\n",
       "    <tr>\n",
       "      <th>4718</th>\n",
       "      <td>4719</td>\n",
       "      <td>借呗还清还清可以马上借吗</td>\n",
       "      <td>两个账户可以使用一个借呗吗</td>\n",
       "      <td>0</td>\n",
       "    </tr>\n",
       "    <tr>\n",
       "      <th>31917</th>\n",
       "      <td>31918</td>\n",
       "      <td>花呗如何提前还款在拉</td>\n",
       "      <td>花呗怎样提前还请</td>\n",
       "      <td>1</td>\n",
       "    </tr>\n",
       "    <tr>\n",
       "      <th>50758</th>\n",
       "      <td>11413</td>\n",
       "      <td>我的借呗关闭了，要多久才能恢复</td>\n",
       "      <td>按时还款了借呗能恢复吗</td>\n",
       "      <td>0</td>\n",
       "    </tr>\n",
       "    <tr>\n",
       "      <th>5076</th>\n",
       "      <td>5077</td>\n",
       "      <td>我的蚂蚁花呗怎么不可以用了</td>\n",
       "      <td>为何我不能使用花呗了</td>\n",
       "      <td>1</td>\n",
       "    </tr>\n",
       "    <tr>\n",
       "      <th>101932</th>\n",
       "      <td>62587</td>\n",
       "      <td>我的花呗钱去哪里了</td>\n",
       "      <td>怎么把花呗弄到我的里面</td>\n",
       "      <td>0</td>\n",
       "    </tr>\n",
       "  </tbody>\n",
       "</table>\n",
       "<p>10000 rows × 4 columns</p>\n",
       "</div>"
      ],
      "text/plain": [
       "            0                                       1  \\\n",
       "50292   10947                            花呗提额，怎么授权通讯录   \n",
       "94383   55038                                我也是用花呗买的   \n",
       "43834    4489                           为啥收款码不支持花呗收款了   \n",
       "94959   55614   蚂蚁花呗分期付款，如果分三期，但是第二个月全部付清了，那第三期还要手续费吗   \n",
       "17486   17487                       我花呗之前有逾期，还上后还能恢复吗   \n",
       "61621   22276                            花呗逾期一个星期利息多少   \n",
       "46605    7260                  为什么我芝麻积分不低，怎么花呗可用额度这么低   \n",
       "60895   21550                         花呗还请最低额度剩余的会影响吗   \n",
       "48388    9043                              借呗，会不会影响花呗   \n",
       "82874   43529                       二月二号借呗还款，为什么现在不能还   \n",
       "93806   54461                          蚂蚁借呗的借款记录查不到记录   \n",
       "65543   26198                   如果开通花呗，当月没有消费，有没有什么费用   \n",
       "42248    2903                              花呗是次月自动扣费吗   \n",
       "81360   42015                        开通了信用卡花呗收款怎么使用不了   \n",
       "59332   19987                          蚂蚁借呗还款日 是否自动扣款   \n",
       "6517     6518                             为什么我手机里没有花呗   \n",
       "66506   27161                         我花呗***的账单是什么时候的   \n",
       "30411   30412  我今天上午还清花呗，下午又花了是到底我花了这个钱是今天再还一次还是下个月九号   \n",
       "100083  60738                              花呗一天可以付款几次   \n",
       "37539   37540                            花呗开通需要多少芝麻信用   \n",
       "61650   22305                           花呗逾期的记录会有什么影响   \n",
       "65402   26057                             为什么合并付款不能花呗   \n",
       "14337   14338                          如果我多用花呗，会提升额度吗   \n",
       "14259   14260                              花呗分期何时还第一期   \n",
       "59942   20597                           借呗借贷影响其他银行贷款吗   \n",
       "60941   21596                                商家如何开通花呗   \n",
       "96493   57148                           我的花呗和借呗怎么在开通了   \n",
       "92141   52796                             花呗分期可用购物津贴吗   \n",
       "54194   14849                             可是花呗还没有恢复使用   \n",
       "13929   13930                                我想接除花呗合同   \n",
       "...       ...                                     ...   \n",
       "151       152                        我有不良记录吗？为什么借呗关闭了   \n",
       "74329   34984                                   用不了花呗   \n",
       "26495   26496                              花呗上的号码怎么更改   \n",
       "3732     3733                     我的支付宝怎么开通花呗跟信用卡支付功能   \n",
       "51068   11723                            怎么我的蚂蚁借呗开通不了   \n",
       "57633   18288                       为什么买了***元也显示需花呗还款   \n",
       "67328   27983                                花呗自动还款几点   \n",
       "93528   54183                     为什么借呗的钱申请成功却没有到银行卡上   \n",
       "12487   12488                                花呗已经是开通了   \n",
       "72673   33328                              蚂蚁借呗一般放款多久   \n",
       "52752   13407                      我这个支付宝怎么不可以开通花呗，借呗   \n",
       "42170    2825                        怎么查询花呗使用的最大额度是多少   \n",
       "61039   21694                                花呗使用分类有吗   \n",
       "35710   35711                  我想把***月份和***月的花呗分期提前还清   \n",
       "49519   10174                      绑定农村信用社借记卡可以还花呗账单吗   \n",
       "73547   34202                            怎么提前还款一个月的借呗   \n",
       "61126   21781                   蚂蚁借呗支付宝显示到账了，但是没有收到短信   \n",
       "25851   25852                              我要还完款再取消花呗   \n",
       "68888   29543                             蚂蚁借呗都是自动还款吗   \n",
       "68429   29084                              不想使用花呗，咋关闭   \n",
       "68993   29648                           花呗手机分期在哪里查询到付   \n",
       "5667     5668          为什么会扣两次款！银行卡提示已经付款成功了！花呗怎么也扣费了   \n",
       "85391   46046                      我有蚂蚁借呗 但是没有额度 怎么回事   \n",
       "28710   28711                            我怎么交电费不能用花呗了   \n",
       "77959   38614                               可以申请停用借呗吗   \n",
       "4718     4719                            借呗还清还清可以马上借吗   \n",
       "31917   31918                              花呗如何提前还款在拉   \n",
       "50758   11413                         我的借呗关闭了，要多久才能恢复   \n",
       "5076     5077                           我的蚂蚁花呗怎么不可以用了   \n",
       "101932  62587                               我的花呗钱去哪里了   \n",
       "\n",
       "                                                        2  3  \n",
       "50292                                   花呗oppo手机通讯录怎么授权题额  0  \n",
       "94383                                          我的花呗借吧怎么不用  0  \n",
       "43834                                      支付宝口碑码是否支持花呗收款  0  \n",
       "94959                                          花呗分期还款免手续费  0  \n",
       "17486                                            我的花呗怎么还原  0  \n",
       "61621                                          花呗逾期利息一天多少  0  \n",
       "46605                                    我的芝麻信用分高为什么花呗额度低  0  \n",
       "60895                                          花呗不还会影响家人吗  0  \n",
       "48388                                        解绑银行卡会影响还花呗吗  0  \n",
       "82874                                       我的借呗还不了款，怎么办呀  0  \n",
       "93806                                          借呗怎么删除借款记录  0  \n",
       "65543                                          开通花呗不用有年费吗  0  \n",
       "42248                                         花呗忘记还会自动扣费吗  0  \n",
       "81360                                         开通不了花呗信用卡收款  0  \n",
       "59332                                     蚂蚁借呗 还款方式是每月还款吗  0  \n",
       "6517                                             支付宝花呗里没有  0  \n",
       "66506                         我是，我这个花呗，这个***元***元，但是怎么产生的  0  \n",
       "30411                      花呗月底还清***号又用了，那在***号之前还还是下个月还款  1  \n",
       "100083                                        我每天可以用多少次花呗  1  \n",
       "37539                                         多少信用才可以开启花呗  1  \n",
       "61650                                   花呗有逾期记录，什么时候能正常使用  0  \n",
       "65402                我想用蚂蚁花呗付款，但是合并付款中有一个不能用，导致我所有都不能用怎么办  0  \n",
       "14337                                        我要关闭花呗，额度太低了  0  \n",
       "14259                                            我的花呗三个分期  0  \n",
       "59942                                        借呗借钱会影响银行贷款吗  0  \n",
       "60941                                           当面付开通花呗条件  0  \n",
       "96493                                           花呗给我开通一下呗  0  \n",
       "92141                                    使用花呗分期会影响购物津贴使用吗  1  \n",
       "54194                                          花呗还款后余额未恢复  0  \n",
       "13929                                            干嘛花呗有合同的  0  \n",
       "...                                                   ... ..  \n",
       "151                                        没有借过借呗，为什么给我关闭  0  \n",
       "74329                                          只是使用花呗买了东西  0  \n",
       "26495                                         我是更改花呗的电话号码  1  \n",
       "3732                           商家开通信用卡与花呗付款，顾客怎么还是不能用花呗付款  0  \n",
       "51068                                             我怎么开通不了  0  \n",
       "57633                                       我的花呗为什么只显示***  0  \n",
       "67328                                     支付宝有钱花呗为什么不自动还款  0  \n",
       "93528                                    借呗显示放款成功。 银行卡没收到  1  \n",
       "12487                                              开通花呗评估  0  \n",
       "72673                                          借呗还有一个没有放款  0  \n",
       "52752                                       我的花呗跟借呗怎么开通不了  1  \n",
       "42170                                          如何查花呗的欠款额度  0  \n",
       "61039                                         使用花呗是不是要有余额  0  \n",
       "35710                                         分期花呗 提前还一部分  1  \n",
       "49519                                        花呗支持农村信用社还款吗  1  \n",
       "73547                                          借呗按期能提前还款吗  1  \n",
       "61126                                蚂蚁借呗显示放款成功，手机到账短信却没来  1  \n",
       "25851                                        花呗已还清，怎样取消花呗  0  \n",
       "68888                                       我的蚂蚁借呗怎么会自动关闭  0  \n",
       "68429                                          不用花呗了，怎么取消  0  \n",
       "68993                                        花呗分期免息券在哪里查看  0  \n",
       "5667    重复付款了，第一次拍用银行卡付款了，但还是显示等待付款，第二次用花呗，但是现在显示两次都扣钱...  0  \n",
       "85391                                     蚂蚁借呗为什么显示没有信用额度  0  \n",
       "28710                                          怎么用不了花呗充钻石  0  \n",
       "77959                                        关闭借呗以后还可以开通吗  0  \n",
       "4718                                        两个账户可以使用一个借呗吗  0  \n",
       "31917                                            花呗怎样提前还请  1  \n",
       "50758                                         按时还款了借呗能恢复吗  0  \n",
       "5076                                           为何我不能使用花呗了  1  \n",
       "101932                                        怎么把花呗弄到我的里面  0  \n",
       "\n",
       "[10000 rows x 4 columns]"
      ]
     },
     "execution_count": 9,
     "metadata": {},
     "output_type": "execute_result"
    }
   ],
   "source": [
    "test"
   ]
  },
  {
   "cell_type": "code",
   "execution_count": 10,
   "metadata": {},
   "outputs": [
    {
     "data": {
      "text/plain": [
       "2173"
      ]
     },
     "execution_count": 10,
     "metadata": {},
     "output_type": "execute_result"
    }
   ],
   "source": [
    "len(vacb_ch2index)"
   ]
  },
  {
   "cell_type": "code",
   "execution_count": 11,
   "metadata": {},
   "outputs": [
    {
     "data": {
      "text/plain": [
       "18685"
      ]
     },
     "execution_count": 11,
     "metadata": {},
     "output_type": "execute_result"
    }
   ],
   "source": [
    "import numpy as np\n",
    "np.sum(all[3].values)"
   ]
  },
  {
   "cell_type": "code",
   "execution_count": 12,
   "metadata": {
    "collapsed": true
   },
   "outputs": [],
   "source": [
    "glove=pickle.load(open(\"F:/数据/词向量/glove_vec.pkl\",'rb'))"
   ]
  },
  {
   "cell_type": "code",
   "execution_count": 13,
   "metadata": {
    "collapsed": true
   },
   "outputs": [
    {
     "data": {
      "text/plain": [
       "array([ 0.42802, -0.24802, -0.62126, -0.07639, -0.07062, -0.21365,\n",
       "        0.18822,  0.01654, -0.34058, -0.55484, -0.32388, -0.88914,\n",
       "        0.71288,  0.28217,  0.46713,  0.45048,  0.38085,  0.42948,\n",
       "        0.27893,  0.69307,  0.44211, -0.53848,  0.18568, -0.10705,\n",
       "       -1.42688, -0.34084,  0.21659, -0.14083, -0.03004, -0.01429,\n",
       "       -0.39005,  0.39436,  0.32563, -0.07631,  0.33756, -0.41801,\n",
       "       -0.68255,  0.14194, -0.32681, -0.03311,  0.4496 ,  0.07001,\n",
       "        0.52692, -0.32931,  0.16839,  0.43708, -0.29632,  0.10815,\n",
       "        0.42247, -0.01769, -0.12067,  0.39782, -0.24936, -0.59879,\n",
       "       -0.35384,  0.59718, -0.37379,  0.58076, -0.15907, -0.41219,\n",
       "       -0.22913,  0.04081,  0.01538, -0.07963, -0.30821,  0.10658,\n",
       "       -0.22981,  0.0037 ,  0.15417, -0.65424,  0.13289,  0.0644 ,\n",
       "       -0.4294 ,  0.05419, -0.46863, -0.32868,  0.33143, -0.52351,\n",
       "        0.54985, -0.44665,  0.12179,  0.28643,  0.50428,  0.12285,\n",
       "        0.30814, -0.31957, -0.43915, -0.53531, -0.37542,  0.5299 ,\n",
       "       -0.19636, -0.48661, -0.37898,  0.41526,  0.03144, -0.25338,\n",
       "        0.08779,  0.27394, -0.5482 , -0.75126, -0.86149, -0.1845 ,\n",
       "        0.71528,  0.5475 , -0.12299, -0.05159,  0.16362, -0.56933,\n",
       "        0.60315, -0.5919 , -0.59512, -0.1385 ,  0.04898,  0.41583,\n",
       "       -0.03548,  0.21363,  0.48671,  0.49435, -0.14857,  0.12499,\n",
       "        0.09114, -0.31584, -0.37162, -0.15594,  0.50589, -0.28278,\n",
       "       -0.19966,  0.35176,  0.70611, -0.3448 , -0.38553,  0.01971,\n",
       "       -0.38245, -0.40416,  0.29062, -0.4739 ,  0.05566, -0.02183,\n",
       "        0.25712, -0.91873,  0.18229, -0.46378,  0.36626,  0.2675 ,\n",
       "       -0.5802 ,  0.03624, -0.34616,  0.38135, -0.74566,  0.27632,\n",
       "       -0.09954, -0.39202, -0.24101,  0.12789,  0.37677, -0.90431,\n",
       "       -0.88937,  0.11501, -0.24381, -0.43575,  0.14361,  0.21227,\n",
       "        0.61364, -0.09324,  0.42444, -0.24123, -0.10286,  0.07557,\n",
       "        0.47107,  0.13226, -0.14646,  0.3075 , -0.56296,  0.40679,\n",
       "       -3.05493, -0.17064,  0.06116, -0.25124,  0.10536,  0.10439,\n",
       "       -0.28316, -0.05633,  0.31812,  0.50332,  0.11746,  0.04214,\n",
       "       -0.77458, -0.44409, -0.09311, -0.08295,  0.64434, -0.28109,\n",
       "       -0.35245, -0.68308,  0.14543,  0.43798,  0.24667,  0.03498,\n",
       "       -0.30716,  0.13569], dtype=float32)"
      ]
     },
     "execution_count": 13,
     "metadata": {},
     "output_type": "execute_result"
    }
   ],
   "source": [
    "glove['花']"
   ]
  },
  {
   "cell_type": "code",
   "execution_count": 45,
   "metadata": {
    "collapsed": true
   },
   "outputs": [],
   "source": [
    "from sklearn.metrics import f1_score\n",
    "from sklearn.metrics.pairwise import cosine_similarity\n",
    "def sen2vec(sentence):\n",
    "    c=[]\n",
    "    for ch in sentence:\n",
    "        if(ch in glove):\n",
    "            v=glove[ch]\n",
    "            c.append(v)\n",
    "    if(len(c)==0):\n",
    "        return np.zeros(200)\n",
    "    else:\n",
    "        return np.concatenate(c).reshape(len(c),-1).mean(0)"
   ]
  },
  {
   "cell_type": "code",
   "execution_count": 88,
   "metadata": {},
   "outputs": [
    {
     "data": {
      "text/plain": [
       "2173"
      ]
     },
     "execution_count": 88,
     "metadata": {},
     "output_type": "execute_result"
    }
   ],
   "source": [
    "len(vacb_index2ch)"
   ]
  },
  {
   "cell_type": "code",
   "execution_count": 90,
   "metadata": {
    "collapsed": true
   },
   "outputs": [],
   "source": [
    "c=[]\n",
    "for idx in vacb_index2ch:\n",
    "    if(vacb_index2ch[idx] in glove):\n",
    "         c.append(glove[vacb_index2ch[idx]])\n",
    "    else:\n",
    "        c.append(np.zeros(200))\n",
    "embed=np.concatenate(c).reshape(len(vacb_index2ch),-1)"
   ]
  },
  {
   "cell_type": "code",
   "execution_count": 92,
   "metadata": {
    "collapsed": true
   },
   "outputs": [],
   "source": [
    "pickle.dump(embed,open('data/embed.pkl','wb'))"
   ]
  },
  {
   "cell_type": "code",
   "execution_count": null,
   "metadata": {
    "collapsed": true
   },
   "outputs": [],
   "source": []
  },
  {
   "cell_type": "code",
   "execution_count": null,
   "metadata": {
    "collapsed": true
   },
   "outputs": [],
   "source": []
  },
  {
   "cell_type": "code",
   "execution_count": 79,
   "metadata": {
    "collapsed": true
   },
   "outputs": [],
   "source": [
    "pre=[]\n",
    "lable=[]\n",
    "t1=test[1].values\n",
    "t2=test[2].values\n",
    "t3=test[3].values\n",
    "for i in range (len(test)):\n",
    "    s1=t1[i]\n",
    "    s2=t2[i]\n",
    "    lable.append(t3[i])\n",
    "    v1=sen2vec(s1)\n",
    "    v2= sen2vec(s2)\n",
    "    if(cosine_similarity(v1.reshape(1,-1),v2.reshape(1,-1))[0][0]>0.95):\n",
    "        pre.append(1)\n",
    "    else:\n",
    "        pre.append(0)"
   ]
  },
  {
   "cell_type": "code",
   "execution_count": 80,
   "metadata": {},
   "outputs": [
    {
     "data": {
      "text/plain": [
       "0.3177935074444716"
      ]
     },
     "execution_count": 80,
     "metadata": {},
     "output_type": "execute_result"
    }
   ],
   "source": [
    "f1_score(lable,\n",
    "         pre)"
   ]
  },
  {
   "cell_type": "code",
   "execution_count": 70,
   "metadata": {},
   "outputs": [
    {
     "data": {
      "text/plain": [
       "0.30379102705453315"
      ]
     },
     "execution_count": 70,
     "metadata": {},
     "output_type": "execute_result"
    }
   ],
   "source": [
    "f1_score(lable,np.ones_like(lable))"
   ]
  },
  {
   "cell_type": "code",
   "execution_count": 59,
   "metadata": {},
   "outputs": [
    {
     "data": {
      "text/plain": [
       "array(['花呗提额，怎么授权通讯录', '我也是用花呗买的', '为啥收款码不支持花呗收款了', ...,\n",
       "       '我的借呗关闭了，要多久才能恢复', '我的蚂蚁花呗怎么不可以用了', '我的花呗钱去哪里了'], dtype=object)"
      ]
     },
     "execution_count": 59,
     "metadata": {},
     "output_type": "execute_result"
    }
   ],
   "source": [
    "test[1].values"
   ]
  },
  {
   "cell_type": "code",
   "execution_count": null,
   "metadata": {
    "collapsed": true
   },
   "outputs": [],
   "source": []
  },
  {
   "cell_type": "code",
   "execution_count": null,
   "metadata": {
    "collapsed": true
   },
   "outputs": [],
   "source": []
  },
  {
   "cell_type": "code",
   "execution_count": null,
   "metadata": {
    "collapsed": true
   },
   "outputs": [],
   "source": []
  },
  {
   "cell_type": "code",
   "execution_count": 1,
   "metadata": {
    "collapsed": true
   },
   "outputs": [],
   "source": [
    "import torch\n",
    "import torch.nn as nn"
   ]
  },
  {
   "cell_type": "code",
   "execution_count": 55,
   "metadata": {},
   "outputs": [
    {
     "data": {
      "text/plain": [
       "GRU(50, 20, batch_first=True, bidirectional=True)"
      ]
     },
     "execution_count": 55,
     "metadata": {},
     "output_type": "execute_result"
    }
   ],
   "source": [
    "nn.GRU(input_size=50,hidden_size=20,num_layers=1,batch_first=True,bidirectional=True)"
   ]
  },
  {
   "cell_type": "code",
   "execution_count": 240,
   "metadata": {
    "collapsed": true
   },
   "outputs": [],
   "source": [
    "?nn.LSTM"
   ]
  },
  {
   "cell_type": "code",
   "execution_count": 241,
   "metadata": {
    "collapsed": true
   },
   "outputs": [],
   "source": [
    "?nn.GRU"
   ]
  },
  {
   "cell_type": "code",
   "execution_count": 78,
   "metadata": {
    "collapsed": true
   },
   "outputs": [],
   "source": [
    "rnn = nn.GRU(input_size=10, hidden_size=20, num_layers=1,batch_first=False)\n",
    "input = torch.randn(5,3 ,10)\n",
    "h0 = torch.randn(1 ,3, 20)\n",
    "output, hn = rnn(input, h0)"
   ]
  },
  {
   "cell_type": "code",
   "execution_count": 64,
   "metadata": {},
   "outputs": [
    {
     "data": {
      "text/plain": [
       "torch.Size([5, 3, 20])"
      ]
     },
     "execution_count": 64,
     "metadata": {},
     "output_type": "execute_result"
    }
   ],
   "source": [
    "output.shape"
   ]
  },
  {
   "cell_type": "code",
   "execution_count": 65,
   "metadata": {},
   "outputs": [
    {
     "data": {
      "text/plain": [
       "torch.Size([1, 3, 20])"
      ]
     },
     "execution_count": 65,
     "metadata": {},
     "output_type": "execute_result"
    }
   ],
   "source": [
    "hn.shape"
   ]
  },
  {
   "cell_type": "code",
   "execution_count": 242,
   "metadata": {
    "collapsed": true
   },
   "outputs": [],
   "source": [
    "rnn = nn.GRU(input_size=10, hidden_size=20, num_layers=1,batch_first=True,bidirectional=True)\n",
    "input = torch.randn(8,3 ,10)\n",
    "h0 = torch.randn(1*2 ,8, 20)\n",
    "output, hn = rnn(input, h0)"
   ]
  },
  {
   "cell_type": "code",
   "execution_count": 243,
   "metadata": {},
   "outputs": [
    {
     "data": {
      "text/plain": [
       "torch.Size([8, 3, 40])"
      ]
     },
     "execution_count": 243,
     "metadata": {},
     "output_type": "execute_result"
    }
   ],
   "source": [
    "output.shape"
   ]
  },
  {
   "cell_type": "code",
   "execution_count": 244,
   "metadata": {},
   "outputs": [
    {
     "data": {
      "text/plain": [
       "torch.Size([2, 8, 20])"
      ]
     },
     "execution_count": 244,
     "metadata": {},
     "output_type": "execute_result"
    }
   ],
   "source": [
    "hn.shape"
   ]
  },
  {
   "cell_type": "code",
   "execution_count": 99,
   "metadata": {},
   "outputs": [
    {
     "data": {
      "text/plain": [
       "torch.Size([8, 40])"
      ]
     },
     "execution_count": 99,
     "metadata": {},
     "output_type": "execute_result"
    }
   ],
   "source": [
    "hn.transpose(1,0).contiguous().reshape(hn.size(1),-1).shape"
   ]
  },
  {
   "cell_type": "code",
   "execution_count": null,
   "metadata": {
    "collapsed": true
   },
   "outputs": [],
   "source": []
  },
  {
   "cell_type": "code",
   "execution_count": 3,
   "metadata": {
    "collapsed": true
   },
   "outputs": [],
   "source": [
    "import torch.nn as nn\n",
    "import torch\n",
    "import torch.nn.functional as F\n",
    "\n",
    "import torch\n",
    "import pandas as pd\n",
    "import pickle\n",
    "\n",
    "class SentenceMath(nn.Module):\n",
    "    def __init__(self, emb_dim, vacb_ch, hidden_dim, drop_out_flag=True):\n",
    "        super(SentenceMath, self).__init__()\n",
    "        self.emb_dim = emb_dim\n",
    "        self.drop_out_p = 0.1\n",
    "        self.drop_out_flag = drop_out_flag\n",
    "        self.max_seq_len = 120\n",
    "        self.hidden_dim = hidden_dim\n",
    "\n",
    "        self.ch_Embedding = nn.Embedding(len(vacb_ch) + 1, emb_dim)\n",
    "        # self.lstm = nn.LSTM(input_size=self.emb_dim, hidden_size=self.hidden_dim, num_layers=1,\n",
    "        #                      bidirectional=True, batch_first=True)\n",
    "\n",
    "        self.rnn = nn.GRU(input_size=self.emb_dim, hidden_size=self.hidden_dim, num_layers=1, bidirectional=True,\n",
    "                          batch_first=True)\n",
    "\n",
    "        # self.seq_hidden2vec = nn.Linear(self.hidden_dim * 2, self.emb_dim)\n",
    "\n",
    "        self.out2tag = nn.Linear(self.hidden_dim * 2 * 2, 2)\n",
    "\n",
    "    def init_weigths(self):\n",
    "        for weights in self.rnn.all_weights:\n",
    "            for weight in weights:\n",
    "                weight.data.uniform_(-0.1, 0.1)\n",
    "\n",
    "        self.ch_Embedding.weight.data.uniform_(-0.1, 0.1)\n",
    "\n",
    "        # self.seq_hidden2vec.weight.data.uniform_(-0.1, 0.1)\n",
    "        # self.seq_hidden2vec.bias.data.zero_()\n",
    "        #\n",
    "        self.out2tag.weight.data.uniform_(-0.1, 0.1)\n",
    "        self.out2tag.bias.data.zero_()\n",
    "\n",
    "    def forward(self, input_ch1, input_ch2):\n",
    "\n",
    "        rnn_out1 = self.encoder(input_ch1)\n",
    "        rnn_out2 = self.encoder(input_ch2)\n",
    "        rnn_out1 = rnn_out1.transpose(1, 0).contiguous().reshape(rnn_out1.size(1), -1)\n",
    "        rnn_out2 = rnn_out2.transpose(1, 0).contiguous().reshape(rnn_out2.size(1), -1)\n",
    "        # out = rnn_out1 + rnn_out2\n",
    "        out = torch.cat([rnn_out1, rnn_out2], 1)\n",
    "        return self.out2tag_logsoftmax(out)\n",
    "\n",
    "    def encoder(self, input_ch):\n",
    "        rnninput = torch.zeros(1 * 2, input_ch.size(0), self.hidden_dim).cuda()\n",
    "        input_x = self.ch_Embedding(input_ch)\n",
    "        input_x = F.dropout(input_x, p=self.drop_out_p, training=self.drop_out_flag)\n",
    "        output, hn = self.rnn(input_x, rnninput)\n",
    "        return hn\n",
    "\n",
    "    def out2tag_logsoftmax(self, out):\n",
    "        out = F.dropout(out, p=self.drop_out_p, training=self.drop_out_flag)\n",
    "        out = F.leaky_relu(self.out2tag(out))\n",
    "        out = F.log_softmax(out, dim=1)\n",
    "        return out\n"
   ]
  },
  {
   "cell_type": "code",
   "execution_count": 4,
   "metadata": {},
   "outputs": [
    {
     "ename": "NameError",
     "evalue": "name 'vacb_ch2index' is not defined",
     "traceback": [
      "\u001b[1;31m---------------------------------------------------------------------------\u001b[0m",
      "\u001b[1;31mNameError\u001b[0m                                 Traceback (most recent call last)",
      "\u001b[1;32m<ipython-input-4-13bd8861c63d>\u001b[0m in \u001b[0;36m<module>\u001b[1;34m()\u001b[0m\n\u001b[1;32m----> 1\u001b[1;33m \u001b[0msm\u001b[0m\u001b[1;33m=\u001b[0m\u001b[0mSentenceMath\u001b[0m\u001b[1;33m(\u001b[0m\u001b[1;36m100\u001b[0m\u001b[1;33m,\u001b[0m\u001b[0mvacb_ch2index\u001b[0m\u001b[1;33m,\u001b[0m\u001b[1;36m50\u001b[0m\u001b[1;33m)\u001b[0m\u001b[1;33m\u001b[0m\u001b[0m\n\u001b[0m\u001b[0;32m      2\u001b[0m \u001b[0msm\u001b[0m\u001b[1;33m.\u001b[0m\u001b[0mcuda\u001b[0m\u001b[1;33m(\u001b[0m\u001b[1;33m)\u001b[0m\u001b[1;33m\u001b[0m\u001b[0m\n",
      "\u001b[1;31mNameError\u001b[0m: name 'vacb_ch2index' is not defined"
     ],
     "output_type": "error"
    }
   ],
   "source": [
    "sm=SentenceMath(100,vacb_ch2index,50)\n",
    "sm.cuda()"
   ]
  },
  {
   "cell_type": "code",
   "execution_count": 216,
   "metadata": {
    "collapsed": true
   },
   "outputs": [],
   "source": [
    "input_ch1=torch.LongTensor([[2,3,4],[6,7,8]]).cuda()\n",
    "input_ch2=torch.LongTensor([[0,5,4],[3,6,8]]).cuda()"
   ]
  },
  {
   "cell_type": "code",
   "execution_count": 217,
   "metadata": {
    "collapsed": true
   },
   "outputs": [],
   "source": [
    "out=sm(input_ch1,input_ch2)"
   ]
  },
  {
   "cell_type": "code",
   "execution_count": 218,
   "metadata": {},
   "outputs": [
    {
     "data": {
      "text/plain": [
       "torch.Size([2, 2])"
      ]
     },
     "execution_count": 218,
     "metadata": {},
     "output_type": "execute_result"
    }
   ],
   "source": [
    "out.shape"
   ]
  },
  {
   "cell_type": "code",
   "execution_count": 219,
   "metadata": {},
   "outputs": [
    {
     "data": {
      "text/plain": [
       "tensor([[-0.8042, -0.5932],\n",
       "        [-0.6205, -0.7715]], device='cuda:0')"
      ]
     },
     "execution_count": 219,
     "metadata": {},
     "output_type": "execute_result"
    }
   ],
   "source": [
    "out"
   ]
  },
  {
   "cell_type": "code",
   "execution_count": null,
   "metadata": {
    "collapsed": true
   },
   "outputs": [],
   "source": []
  },
  {
   "cell_type": "code",
   "execution_count": 221,
   "metadata": {},
   "outputs": [
    {
     "data": {
      "text/plain": [
       "tensor([[-0.8042, -0.5932],\n",
       "        [-0.6205, -0.7715]], device='cuda:0')"
      ]
     },
     "execution_count": 221,
     "metadata": {},
     "output_type": "execute_result"
    }
   ],
   "source": [
    "out"
   ]
  },
  {
   "cell_type": "code",
   "execution_count": 226,
   "metadata": {
    "collapsed": true
   },
   "outputs": [],
   "source": [
    "target=torch.LongTensor([1,0]).cuda()"
   ]
  },
  {
   "cell_type": "code",
   "execution_count": 227,
   "metadata": {
    "collapsed": true
   },
   "outputs": [],
   "source": [
    "lossfuntion=nn.NLLLoss()"
   ]
  },
  {
   "cell_type": "code",
   "execution_count": 228,
   "metadata": {},
   "outputs": [
    {
     "data": {
      "text/plain": [
       "tensor(0.6068, device='cuda:0')"
      ]
     },
     "execution_count": 228,
     "metadata": {},
     "output_type": "execute_result"
    }
   ],
   "source": [
    "lossfuntion(out,target)"
   ]
  },
  {
   "cell_type": "code",
   "execution_count": 234,
   "metadata": {},
   "outputs": [
    {
     "data": {
      "text/plain": [
       "tensor(-0.6068, device='cuda:0')"
      ]
     },
     "execution_count": 234,
     "metadata": {},
     "output_type": "execute_result"
    }
   ],
   "source": [
    "1/2*torch.sum(out*torch.FloatTensor([[0,1],[1,0]]).cuda())"
   ]
  },
  {
   "cell_type": "code",
   "execution_count": 259,
   "metadata": {},
   "outputs": [
    {
     "data": {
      "text/plain": [
       "0.6931471805599453"
      ]
     },
     "execution_count": 259,
     "metadata": {},
     "output_type": "execute_result"
    }
   ],
   "source": [
    "-np.log(0.5)"
   ]
  },
  {
   "cell_type": "code",
   "execution_count": 43,
   "metadata": {
    "collapsed": true
   },
   "outputs": [],
   "source": [
    "class resconnetc(nn.Module):\n",
    "    def __init__(self, num_layers,emb_dim, hidden_dim,training=False,dropout = 0.5):\n",
    "        super().__init__()\n",
    "        self.num_layers = num_layers\n",
    "        self.dropout = dropout\n",
    "        self.training = training\n",
    "        self.emb_dim=emb_dim\n",
    "        self.hidden_dim=hidden_dim\n",
    "        self.rnns = nn.ModuleList(\n",
    "            [nn.GRU(input_size=self.emb_dim, hidden_size=self.hidden_dim, num_layers=1, bidirectional=True,\n",
    "                    batch_first=True) for _ in range(self.num_layers)])\n",
    "    def forward(self, x):\n",
    "        # x: shape [batch_size,length, input_size, ]\n",
    "        for i in range(self.num_layers):\n",
    "            rnninput = torch.zeros(1 * 2, x.size(0), self.hidden_dim)\n",
    "            outs,hns = self.rnns[i](x,rnninput)\n",
    "            outs = F.dropout(outs, p=self.dropout, training=self.training)\n",
    "            x += outs\n",
    "        return x"
   ]
  },
  {
   "cell_type": "code",
   "execution_count": 73,
   "metadata": {
    "collapsed": true
   },
   "outputs": [],
   "source": [
    "class ScaledDotProductAttention(nn.Module):\n",
    "    ''' Scaled Dot-Product Attention '''\n",
    "\n",
    "    def __init__(self, temperature, attn_dropout=0.1):\n",
    "        super().__init__()\n",
    "        self.temperature = temperature\n",
    "        self.dropout = nn.Dropout(attn_dropout)\n",
    "        self.softmax = nn.Softmax(dim=2)\n",
    "\n",
    "    def forward(self, q, k, v, mask=None):\n",
    "\n",
    "        attn = torch.bmm(q, k.transpose(1, 2))\n",
    "        attn = attn / self.temperature\n",
    "\n",
    "        if mask is not None:\n",
    "            attn = attn.masked_fill(mask, -np.inf)\n",
    "\n",
    "        attn = self.softmax(attn)\n",
    "        attn = self.dropout(attn)\n",
    "        output = torch.bmm(attn, v)\n",
    "\n",
    "        return output, attn"
   ]
  },
  {
   "cell_type": "code",
   "execution_count": 70,
   "metadata": {
    "collapsed": true
   },
   "outputs": [],
   "source": [
    "x=torch.rand(64,9,200)"
   ]
  },
  {
   "cell_type": "code",
   "execution_count": 78,
   "metadata": {},
   "outputs": [
    {
     "data": {
      "text/plain": [
       "torch.Size([64, 9, 200])"
      ]
     },
     "execution_count": 78,
     "metadata": {},
     "output_type": "execute_result"
    }
   ],
   "source": [
    "x.shape"
   ]
  },
  {
   "cell_type": "code",
   "execution_count": 75,
   "metadata": {
    "collapsed": true
   },
   "outputs": [],
   "source": [
    "att=ScaledDotProductAttention(200)"
   ]
  },
  {
   "cell_type": "code",
   "execution_count": 83,
   "metadata": {},
   "outputs": [
    {
     "data": {
      "text/plain": [
       "torch.Size([64, 9, 200])"
      ]
     },
     "execution_count": 83,
     "metadata": {},
     "output_type": "execute_result"
    }
   ],
   "source": [
    "att(x,x,x)[0].shape"
   ]
  },
  {
   "cell_type": "code",
   "execution_count": 5,
   "metadata": {
    "collapsed": true
   },
   "outputs": [
    {
     "ename": "SyntaxError",
     "evalue": "invalid syntax (<ipython-input-5-4f0e17900dca>, line 2)",
     "traceback": [
      "\u001b[1;36m  File \u001b[1;32m\"<ipython-input-5-4f0e17900dca>\"\u001b[1;36m, line \u001b[1;32m2\u001b[0m\n\u001b[1;33m    optimzer = optim.Adam(, lr=1e-4, weight_decay=1e-4)\u001b[0m\n\u001b[1;37m                          ^\u001b[0m\n\u001b[1;31mSyntaxError\u001b[0m\u001b[1;31m:\u001b[0m invalid syntax\n"
     ],
     "output_type": "error"
    }
   ],
   "source": [
    "import torch.optim as optim\n",
    "optimzer = optim.Adam(model.parameters(), lr=1e-4, weight_decay=1e-4)"
   ]
  }
 ],
 "metadata": {
  "kernelspec": {
   "display_name": "Python 3",
   "language": "python",
   "name": "python3"
  },
  "language_info": {
   "codemirror_mode": {
    "name": "ipython",
    "version": 3
   },
   "file_extension": ".py",
   "mimetype": "text/x-python",
   "name": "python",
   "nbconvert_exporter": "python",
   "pygments_lexer": "ipython3",
   "version": "3.6.2"
  }
 },
 "nbformat": 4,
 "nbformat_minor": 2
}
