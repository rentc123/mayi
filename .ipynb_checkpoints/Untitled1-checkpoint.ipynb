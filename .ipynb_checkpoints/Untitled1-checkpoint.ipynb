{
 "cells": [
  {
   "cell_type": "code",
   "execution_count": 1,
   "metadata": {
    "collapsed": true
   },
   "outputs": [],
   "source": [
    "import torch\n",
    "import numpy as np"
   ]
  },
  {
   "cell_type": "code",
   "execution_count": 44,
   "metadata": {
    "collapsed": true
   },
   "outputs": [
    {
     "data": {
      "text/plain": [
       "tensor([[[ 0.4953,  0.4743,  0.4356,  0.0763,  0.6213,  0.9812,  0.6306,\n",
       "           0.4136,  0.5519,  0.0650],\n",
       "         [ 0.9735,  0.5310,  0.4418,  0.6497,  0.5310,  0.8735,  0.0533,\n",
       "           0.1252,  0.4553,  0.1017],\n",
       "         [ 0.8580,  0.8117,  0.2308,  0.8561,  0.3547,  0.0198,  0.2438,\n",
       "           0.8340,  0.4619,  0.3087],\n",
       "         [ 0.6935,  0.7737,  0.2532,  0.8362,  0.8417,  0.5972,  0.3670,\n",
       "           0.8666,  0.1458,  0.8510],\n",
       "         [ 0.1908,  0.9060,  0.1180,  0.5988,  0.8177,  0.7086,  0.4357,\n",
       "           0.0883,  0.2046,  0.0971]],\n",
       "\n",
       "        [[ 0.5473,  0.1385,  0.5631,  0.2907,  0.2083,  0.8503,  0.8611,\n",
       "           0.1238,  0.1216,  0.4797],\n",
       "         [ 0.7353,  0.7494,  0.3298,  0.8544,  0.6060,  0.9084,  0.0705,\n",
       "           0.3274,  0.5405,  0.7399],\n",
       "         [ 0.9508,  0.4088,  0.4865,  0.6346,  0.2472,  0.7347,  0.3464,\n",
       "           0.3470,  0.0306,  0.1726],\n",
       "         [ 0.5202,  0.4331,  0.9309,  0.6747,  0.5151,  0.9244,  0.9707,\n",
       "           0.2755,  0.1197,  0.4287],\n",
       "         [ 0.1605,  0.6507,  0.7693,  0.9731,  0.6791,  0.0371,  0.2126,\n",
       "           0.4774,  0.4011,  0.0673]],\n",
       "\n",
       "        [[ 0.8176,  0.9442,  0.8203,  0.9278,  0.3013,  0.3588,  0.9899,\n",
       "           0.4079,  0.0839,  0.5525],\n",
       "         [ 0.9764,  0.4313,  0.8634,  0.7673,  0.6412,  0.2087,  0.2528,\n",
       "           0.2554,  0.9294,  0.3896],\n",
       "         [ 0.0869,  0.0412,  0.7398,  0.7238,  0.9260,  0.6568,  0.7979,\n",
       "           0.0049,  0.1895,  0.7760],\n",
       "         [ 0.3781,  0.8504,  0.9529,  0.6834,  0.1466,  0.1152,  0.4473,\n",
       "           0.2206,  0.1046,  0.4812],\n",
       "         [ 0.7438,  0.7733,  0.8906,  0.4094,  0.6610,  0.0023,  0.4233,\n",
       "           0.5740,  0.8585,  0.0488]]])"
      ]
     },
     "execution_count": 44,
     "metadata": {},
     "output_type": "execute_result"
    }
   ],
   "source": [
    "v=torch.rand(3,5,10)\n",
    "v"
   ]
  },
  {
   "cell_type": "code",
   "execution_count": 59,
   "metadata": {
    "collapsed": true
   },
   "outputs": [
    {
     "data": {
      "text/plain": [
       "tensor([[[ 0.4953,  0.4743,  0.4356,  0.0763,  0.6213,  0.9812,  0.6306,\n",
       "           0.4136,  0.5519,  0.0650],\n",
       "         [ 0.9735,  0.5310,  0.4418,  0.6497,  0.5310,  0.8735,  0.0533,\n",
       "           0.1252,  0.4553,  0.1017],\n",
       "         [ 0.8580,  0.8117,  0.2308,  0.8561,  0.3547,  0.0198,  0.2438,\n",
       "           0.8340,  0.4619,  0.3087],\n",
       "         [ 0.6935,  0.7737,  0.2532,  0.8362,  0.8417,  0.5972,  0.3670,\n",
       "           0.8666,  0.1458,  0.8510],\n",
       "         [ 0.1908,  0.9060,  0.1180,  0.5988,  0.8177,  0.7086,  0.4357,\n",
       "           0.0883,  0.2046,  0.0971]],\n",
       "\n",
       "        [[ 0.5473,  0.1385,  0.5631,  0.2907,  0.2083,  0.8503,  0.8611,\n",
       "           0.1238,  0.1216,  0.4797],\n",
       "         [ 0.7353,  0.7494,  0.3298,  0.8544,  0.6060,  0.9084,  0.0705,\n",
       "           0.3274,  0.5405,  0.7399],\n",
       "         [ 0.9508,  0.4088,  0.4865,  0.6346,  0.2472,  0.7347,  0.3464,\n",
       "           0.3470,  0.0306,  0.1726],\n",
       "         [ 0.5202,  0.4331,  0.9309,  0.6747,  0.5151,  0.9244,  0.9707,\n",
       "           0.2755,  0.1197,  0.4287],\n",
       "         [ 0.1605,  0.6507,  0.7693,  0.9731,  0.6791,  0.0371,  0.2126,\n",
       "           0.4774,  0.4011,  0.0673]],\n",
       "\n",
       "        [[ 0.8176,  0.9442,  0.8203,  0.9278,  0.3013,  0.3588,  0.9899,\n",
       "           0.4079,  0.0839,  0.5525],\n",
       "         [ 0.9764,  0.4313,  0.8634,  0.7673,  0.6412,  0.2087,  0.2528,\n",
       "           0.2554,  0.9294,  0.3896],\n",
       "         [ 0.0869,  0.0412,  0.7398,  0.7238,  0.9260,  0.6568,  0.7979,\n",
       "           0.0049,  0.1895,  0.7760],\n",
       "         [ 0.3781,  0.8504,  0.9529,  0.6834,  0.1466,  0.1152,  0.4473,\n",
       "           0.2206,  0.1046,  0.4812],\n",
       "         [ 0.7438,  0.7733,  0.8906,  0.4094,  0.6610,  0.0023,  0.4233,\n",
       "           0.5740,  0.8585,  0.0488]]])"
      ]
     },
     "execution_count": 59,
     "metadata": {},
     "output_type": "execute_result"
    }
   ],
   "source": [
    "v.masked_fill(torch.ByteTensor(np.array([0]*5).reshape(-1,1)),-np.inf)"
   ]
  },
  {
   "cell_type": "code",
   "execution_count": 56,
   "metadata": {},
   "outputs": [
    {
     "data": {
      "text/plain": [
       "tensor([[ 1],\n",
       "        [ 1],\n",
       "        [ 1],\n",
       "        [ 1],\n",
       "        [ 1]], dtype=torch.uint8)"
      ]
     },
     "execution_count": 56,
     "metadata": {},
     "output_type": "execute_result"
    }
   ],
   "source": [
    "torch.ByteTensor(np.array([1]*5).reshape(-1,1))"
   ]
  },
  {
   "cell_type": "code",
   "execution_count": 60,
   "metadata": {
    "collapsed": true
   },
   "outputs": [],
   "source": [
    "d={}"
   ]
  },
  {
   "cell_type": "code",
   "execution_count": 61,
   "metadata": {
    "collapsed": true
   },
   "outputs": [],
   "source": [
    "d['a']=1"
   ]
  },
  {
   "cell_type": "code",
   "execution_count": 63,
   "metadata": {},
   "outputs": [
    {
     "data": {
      "text/plain": [
       "888"
      ]
     },
     "execution_count": 63,
     "metadata": {},
     "output_type": "execute_result"
    }
   ],
   "source": [
    "d.get('b',888)"
   ]
  },
  {
   "cell_type": "code",
   "execution_count": 64,
   "metadata": {},
   "outputs": [
    {
     "data": {
      "text/plain": [
       "[1, 2]"
      ]
     },
     "execution_count": 64,
     "metadata": {},
     "output_type": "execute_result"
    }
   ],
   "source": [
    "[1]+[2]"
   ]
  },
  {
   "cell_type": "code",
   "execution_count": 10,
   "metadata": {},
   "outputs": [],
   "source": [
    "input_ch_ids_a=[13,12,10,0,0,0,0,0]\n",
    "mask=np.ones_like(input_ch_ids_a)\n",
    "mask[np.array(input_ch_ids_a)==0]=0\n",
    "mask"
   ]
  },
  {
   "cell_type": "code",
   "execution_count": 11,
   "metadata": {},
   "outputs": [],
   "source": []
  },
  {
   "cell_type": "code",
   "execution_count": 12,
   "metadata": {},
   "outputs": [
    {
     "data": {
      "text/plain": [
       "array([1, 1, 1, 0, 0, 0, 0, 0])"
      ]
     },
     "execution_count": 12,
     "metadata": {},
     "output_type": "execute_result"
    }
   ],
   "source": []
  },
  {
   "cell_type": "code",
   "execution_count": null,
   "metadata": {
    "collapsed": true
   },
   "outputs": [],
   "source": []
  }
 ],
 "metadata": {
  "kernelspec": {
   "display_name": "Python 3",
   "language": "python",
   "name": "python3"
  },
  "language_info": {
   "codemirror_mode": {
    "name": "ipython",
    "version": 3
   },
   "file_extension": ".py",
   "mimetype": "text/x-python",
   "name": "python",
   "nbconvert_exporter": "python",
   "pygments_lexer": "ipython3",
   "version": "3.6.2"
  }
 },
 "nbformat": 4,
 "nbformat_minor": 2
}
